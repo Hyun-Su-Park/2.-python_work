{
 "cells": [
  {
   "cell_type": "code",
   "execution_count": 9,
   "id": "65bc5a56-81c7-4a0e-b145-9c50e7bb13a4",
   "metadata": {},
   "outputs": [],
   "source": [
    "import pandas as pd\n",
    "import datetime\n",
    "\n",
    "\n",
    "# 데이터 불러오기\n",
    "data = pd.read_csv('농과원4.csv', encoding=\"cp949\")\n",
    "\n",
    "# 'timestamp' 열을 datetime 형식으로 변환\n",
    "data['이벤트발생일'] = pd.to_datetime(data['이벤트발생일'])\n",
    "\n",
    "# 'timestamp' 열을 날짜로 만들어서 새로운 열 'date'에 저장\n",
    "data['date'] = data['이벤트발생일'].dt.date\n",
    "\n",
    "# 'date' 열을 기준으로 데이터를 그룹화하고, 'value' 열의 평균을 구함\n",
    "# daily_data = data.groupby('date')[[\"수분1\",\"수분2\",\"수분3\",\"수분4\",\"수분5\",\"수분6\"]].mean().reset_index()\n",
    "daily_data = data.groupby('date')[[\"수분7\",\"수분8\",\"수분9\",\"수분10\"]].mean().reset_index()\n",
    "\n",
    "# 결과 출력\n",
    "daily_data.to_csv(\"전처리4.csv\", index=False)"
   ]
  }
 ],
 "metadata": {
  "kernelspec": {
   "display_name": "Python 3 (ipykernel)",
   "language": "python",
   "name": "python3"
  },
  "language_info": {
   "codemirror_mode": {
    "name": "ipython",
    "version": 3
   },
   "file_extension": ".py",
   "mimetype": "text/x-python",
   "name": "python",
   "nbconvert_exporter": "python",
   "pygments_lexer": "ipython3",
   "version": "3.9.16"
  }
 },
 "nbformat": 4,
 "nbformat_minor": 5
}
